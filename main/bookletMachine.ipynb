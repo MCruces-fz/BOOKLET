{
 "cells": [
  {
   "cell_type": "code",
   "execution_count": 16,
   "metadata": {},
   "outputs": [],
   "source": [
    "import PyPDF2 as pyp # Documentation at:\n",
    "# https://pythonhosted.org/PyPDF2/\n",
    "import os\n",
    "from os import listdir\n",
    "import sys\n",
    "from os.path import join as joinPath"
   ]
  },
  {
   "cell_type": "code",
   "execution_count": 17,
   "metadata": {},
   "outputs": [],
   "source": [
    "# Directorio raíz del proyecto\n",
    "ROOT_DIR = os.path.abspath(\"../\")\n",
    "\n",
    "# Importa Mask RCNN\n",
    "if ROOT_DIR not in sys.path:\n",
    "    # para encontrar la versión local de la biblioteca\n",
    "    sys.path.append(ROOT_DIR)"
   ]
  },
  {
   "cell_type": "code",
   "execution_count": 18,
   "metadata": {},
   "outputs": [],
   "source": [
    "# Aqui se importan mis paquetes\n",
    "from packages.module import set_length, sort, twoByTwo, link_merged, orientate_page\n",
    "from packages import inputDir, outputDir"
   ]
  },
  {
   "cell_type": "code",
   "execution_count": 19,
   "metadata": {},
   "outputs": [],
   "source": [
    "fileName = sorted(os.listdir(inputDir))[-1]\n",
    "filePath = joinPath(inputDir, fileName)\n",
    "inFile = open(filePath, 'rb')\n",
    "inPdf = pyp.PdfFileReader(inFile)\n",
    "outPdf = pyp.PdfFileWriter()"
   ]
  },
  {
   "cell_type": "code",
   "execution_count": 20,
   "metadata": {},
   "outputs": [
    {
     "data": {
      "text/plain": [
       "<PyPDF2.pdf.PdfFileWriter at 0x1bc54807e10>"
      ]
     },
     "execution_count": 20,
     "metadata": {},
     "output_type": "execute_result"
    }
   ],
   "source": [
    "# it adds a number of addblank pages to the end of the file\n",
    "def add_pages(inPdf, addblank):\n",
    "    # create the output file\n",
    "    outPdf.appendPagesFromReader(inPdf)\n",
    "    for i in range(addblank):\n",
    "        # add one page in each loop, in addblank loops\n",
    "        outPdf.addBlankPage()\n",
    "    # save the changes in extra_pages\n",
    "#     savePath = joinPath(outputPath, 'extra_pages.pdf')\n",
    "#     with open(savePath, 'wb') as outfile:\n",
    "#         outPdf.write(outfile)\n",
    "#     return pyp.PdfFileReader(open(savePath, 'rb')) # remember to close 'outfile' file\n",
    "    return outPdf\n",
    "\n",
    "add_pages(inPdf, 4)"
   ]
  },
  {
   "cell_type": "code",
   "execution_count": 21,
   "metadata": {},
   "outputs": [],
   "source": [
    "# ========================= DEFINE VARIABLES ========================= #\n",
    "\n",
    "N = inPdf.getNumPages() # obtienes el número de páginas del archivo de entrada\n",
    "Page0 = inPdf.getPage(0) # Page0 es la primera página (class PageObect)\n",
    "#Page1 = inPdf.getPage(1) # Page1 es la segunda página (class PageObect)\n",
    "PageShape = Page0.mediaBox # dimensiones de página en pts\n",
    "# (1pt = 1/72 inch = 2,54/72 cm)\n",
    "PageWidth = float(PageShape[2])*(2.54/72) # anchura de página en cm\n",
    "PageHeight = float(PageShape[3])*(2.54/72) # altura de página en cm\n",
    "dinA = [PageHeight, PageWidth]"
   ]
  },
  {
   "cell_type": "code",
   "execution_count": 22,
   "metadata": {},
   "outputs": [
    {
     "name": "stdout",
     "output_type": "stream",
     "text": [
      "This pdf has N = 66 pages.\n",
      "So, with 4 sheets per booklet, we need to add 14 blank pages at the end of the pdf.\n"
     ]
    }
   ],
   "source": [
    "# ========================= RUN the PROGRAM ========================= #\n",
    "\n",
    "# Añade páginas blancas al final del archivo original (poner una firma en la última página)\n",
    "ExtraPagesPdf, f, addblank = set_length(inPdf, N, f=4)"
   ]
  },
  {
   "cell_type": "code",
   "execution_count": 23,
   "metadata": {},
   "outputs": [
    {
     "name": "stdout",
     "output_type": "stream",
     "text": [
      "Now, Necronomicon.pdf has 160 pages\n"
     ]
    }
   ],
   "source": [
    "# la variable _N es el nuevo número de páginas\n",
    "_N = ExtraPagesPdf.getNumPages()\n",
    "print(f'Now, {fileName} has {_N} pages')"
   ]
  },
  {
   "cell_type": "code",
   "execution_count": 24,
   "metadata": {},
   "outputs": [
    {
     "name": "stdout",
     "output_type": "stream",
     "text": [
      "Pages ordered!\n"
     ]
    }
   ],
   "source": [
    "# Ordena las páginas y devuelve el orden\n",
    "SortedPdf, correct_order = sort(ExtraPagesPdf, N, f, addblank, PageWidth)\n",
    "print('Pages ordered!')"
   ]
  },
  {
   "cell_type": "code",
   "execution_count": 25,
   "metadata": {},
   "outputs": [
    {
     "name": "stdout",
     "output_type": "stream",
     "text": [
      "Merged two by two.\n"
     ]
    }
   ],
   "source": [
    "# Empaca de dos en dos\n",
    "twoBy2 = twoByTwo(SortedPdf, correct_order)\n",
    "print('Merged two by two.')"
   ]
  },
  {
   "cell_type": "code",
   "execution_count": 26,
   "metadata": {},
   "outputs": [
    {
     "name": "stdout",
     "output_type": "stream",
     "text": [
      "Now, stored'em all in the same pdf\n"
     ]
    }
   ],
   "source": [
    "# Las mete en el mismo pdf\n",
    "almostFinalPdf = link_merged(twoBy2)\n",
    "print('Now, stored\\'em all in the same pdf')"
   ]
  },
  {
   "cell_type": "code",
   "execution_count": 27,
   "metadata": {},
   "outputs": [
    {
     "name": "stdout",
     "output_type": "stream",
     "text": [
      "With 40 pages\n"
     ]
    }
   ],
   "source": [
    "# número de páginas empacadas en el nuevo pdf\n",
    "_fN = almostFinalPdf.getNumPages()\n",
    "print(f'With {_fN} pages')"
   ]
  },
  {
   "cell_type": "code",
   "execution_count": 28,
   "metadata": {},
   "outputs": [
    {
     "data": {
      "text/plain": [
       "<PyPDF2.pdf.PdfFileWriter at 0x1bc54807828>"
      ]
     },
     "execution_count": 28,
     "metadata": {},
     "output_type": "execute_result"
    }
   ],
   "source": [
    "# Orienta las páginas para imprimir por el borde largo sin rayarse\n",
    "orientate_page(almostFinalPdf, _fN)"
   ]
  },
  {
   "cell_type": "code",
   "execution_count": 29,
   "metadata": {},
   "outputs": [
    {
     "name": "stdout",
     "output_type": "stream",
     "text": [
      "Now you can use Necronomicon_Booklet.pdf as you want!\n"
     ]
    }
   ],
   "source": [
    "print(f'Now you can use {fileName[:-4]}_Booklet.pdf as you want!')\n",
    "inFile.close()"
   ]
  },
  {
   "cell_type": "code",
   "execution_count": 30,
   "metadata": {},
   "outputs": [
    {
     "data": {
      "text/plain": [
       "'\\nTO DO:\\n    Poner firma de en la última página\\n    Cerrar todos los archivos al final\\n    Eliminar todos los archivos al final\\n    Mejor todavía, no crear archivos; sólo el final. Cerrar todos los abiertos al terminar\\n    Que las carpetas input y output se generen si no existen\\n    Ya la hostia:\\n        Programar una ventanita con botones y todo el rollo\\n        Hacer esto en JavaScript para que salga una ventanita html.\\n'"
      ]
     },
     "execution_count": 30,
     "metadata": {},
     "output_type": "execute_result"
    }
   ],
   "source": [
    "'''\n",
    "TO DO:\n",
    "    Poner firma de en la última página\n",
    "    Que la carpeta output se genere si no existe\n",
    "    Ya la hostia:\n",
    "        Programar una ventanita con botones y todo el rollo\n",
    "        Hacer esto en JavaScript para que salga una ventanita html.\n",
    "'''"
   ]
  }
 ],
 "metadata": {
  "kernelspec": {
   "display_name": "Python 3",
   "language": "python",
   "name": "python3"
  },
  "language_info": {
   "codemirror_mode": {
    "name": "ipython",
    "version": 3
   },
   "file_extension": ".py",
   "mimetype": "text/x-python",
   "name": "python",
   "nbconvert_exporter": "python",
   "pygments_lexer": "ipython3",
   "version": "3.7.1"
  }
 },
 "nbformat": 4,
 "nbformat_minor": 2
}
